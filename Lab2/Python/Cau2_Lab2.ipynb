{
 "cells": [
  {
   "cell_type": "code",
   "execution_count": 2,
   "id": "a9d63ca1-c4e9-41f7-af13-0431c4bc5ee5",
   "metadata": {},
   "outputs": [],
   "source": [
    "import pandas as pd\n",
    "import numpy as np\n",
    "import scipy.stats as stats\n",
    "drink = pd.read_csv(\"energy_survey_e.csv\")"
   ]
  },
  {
   "cell_type": "code",
   "execution_count": 3,
   "id": "89c72bbc-b367-4050-b8c7-5daa6f5cdb3f",
   "metadata": {},
   "outputs": [
    {
     "name": "stdout",
     "output_type": "stream",
     "text": [
      "    Respondent  Gender Brand Preference\n",
      "0            1    Male          Brand 3\n",
      "1            2  Female          Brand 3\n",
      "2            3    Male          Brand 3\n",
      "3            4    Male          Brand 1\n",
      "4            5    Male          Brand 1\n",
      "..         ...     ...              ...\n",
      "95          96    Male          Brand 1\n",
      "96          97    Male          Brand 3\n",
      "97          98  Female          Brand 3\n",
      "98          99    Male          Brand 2\n",
      "99         100  Female          Brand 1\n",
      "\n",
      "[100 rows x 3 columns]\n"
     ]
    }
   ],
   "source": [
    "print(drink)"
   ]
  },
  {
   "cell_type": "code",
   "execution_count": 4,
   "id": "d82a11d1-f5c8-4f45-aba3-68b77c4b53b1",
   "metadata": {},
   "outputs": [],
   "source": [
    "chisqt = pd.crosstab(drink.Gender, drink['Brand Preference'])"
   ]
  },
  {
   "cell_type": "code",
   "execution_count": 5,
   "id": "09e0f904-ee54-4a14-b986-66a5ca9b3c39",
   "metadata": {},
   "outputs": [
    {
     "name": "stdout",
     "output_type": "stream",
     "text": [
      "Brand Preference  Brand 1  Brand 2  Brand 3\n",
      "Gender                                     \n",
      "Female                  9        6       22\n",
      "Male                   25       17       21\n"
     ]
    }
   ],
   "source": [
    "print(chisqt)"
   ]
  },
  {
   "cell_type": "code",
   "execution_count": 6,
   "id": "e8177767-23c0-4f22-ab7a-9b484bfbeef4",
   "metadata": {},
   "outputs": [
    {
     "name": "stdout",
     "output_type": "stream",
     "text": [
      "0.038921342064441915\n"
     ]
    }
   ],
   "source": [
    "c, p, dof, expected = stats.chi2_contingency(chisqt)\n",
    "print(p)"
   ]
  },
  {
   "cell_type": "code",
   "execution_count": 7,
   "id": "71372054-b2c9-49ce-af38-c97dab13864c",
   "metadata": {},
   "outputs": [
    {
     "name": "stdout",
     "output_type": "stream",
     "text": [
      "6.4924250792329055\n"
     ]
    }
   ],
   "source": [
    "print(c)"
   ]
  },
  {
   "cell_type": "code",
   "execution_count": 8,
   "id": "905fb3e7-632c-46fb-82fe-9fa541685fe4",
   "metadata": {},
   "outputs": [
    {
     "name": "stdout",
     "output_type": "stream",
     "text": [
      "2\n"
     ]
    }
   ],
   "source": [
    "print(dof)"
   ]
  },
  {
   "cell_type": "code",
   "execution_count": null,
   "id": "98026130-762c-4c52-955c-0331e47a2b29",
   "metadata": {},
   "outputs": [],
   "source": []
  }
 ],
 "metadata": {
  "kernelspec": {
   "display_name": "Python 3 (ipykernel)",
   "language": "python",
   "name": "python3"
  },
  "language_info": {
   "codemirror_mode": {
    "name": "ipython",
    "version": 3
   },
   "file_extension": ".py",
   "mimetype": "text/x-python",
   "name": "python",
   "nbconvert_exporter": "python",
   "pygments_lexer": "ipython3",
   "version": "3.11.7"
  }
 },
 "nbformat": 4,
 "nbformat_minor": 5
}
