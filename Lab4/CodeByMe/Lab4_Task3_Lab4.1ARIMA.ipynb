{
 "cells": [
  {
   "cell_type": "code",
   "execution_count": 1,
   "id": "b3295eb5-1e56-40a2-8512-93af19a3c7b7",
   "metadata": {},
   "outputs": [
    {
     "name": "stdout",
     "output_type": "stream",
     "text": [
      "Requirement already satisfied: statsmodels in d:\\app\\anaconda\\lib\\site-packages (0.14.0)\n",
      "Requirement already satisfied: numpy>=1.18 in d:\\app\\anaconda\\lib\\site-packages (from statsmodels) (1.24.3)\n",
      "Requirement already satisfied: scipy!=1.9.2,>=1.4 in d:\\app\\anaconda\\lib\\site-packages (from statsmodels) (1.10.0)\n",
      "Requirement already satisfied: pandas>=1.0 in d:\\app\\anaconda\\lib\\site-packages (from statsmodels) (2.1.4)\n",
      "Requirement already satisfied: patsy>=0.5.2 in d:\\app\\anaconda\\lib\\site-packages (from statsmodels) (0.5.3)\n",
      "Requirement already satisfied: packaging>=21.3 in d:\\app\\anaconda\\lib\\site-packages (from statsmodels) (23.1)\n",
      "Requirement already satisfied: python-dateutil>=2.8.2 in d:\\app\\anaconda\\lib\\site-packages (from pandas>=1.0->statsmodels) (2.8.2)\n",
      "Requirement already satisfied: pytz>=2020.1 in d:\\app\\anaconda\\lib\\site-packages (from pandas>=1.0->statsmodels) (2023.3.post1)\n",
      "Requirement already satisfied: tzdata>=2022.1 in d:\\app\\anaconda\\lib\\site-packages (from pandas>=1.0->statsmodels) (2023.3)\n",
      "Requirement already satisfied: six in d:\\app\\anaconda\\lib\\site-packages (from patsy>=0.5.2->statsmodels) (1.16.0)\n"
     ]
    }
   ],
   "source": [
    "!pip install statsmodels"
   ]
  },
  {
   "cell_type": "code",
   "execution_count": 2,
   "id": "c014a97a-c5a1-45dd-aaad-e78d7bd424fa",
   "metadata": {},
   "outputs": [],
   "source": [
    "import numpy as np\n",
    "import pandas as pd\n",
    "import matplotlib.pyplot as plt\n",
    "from statsmodels.tsa.stattools import adfuller\n",
    "from statsmodels.graphics.tsaplots import plot_acf, plot_pacf\n",
    "from statsmodels.tsa.arima.model import ARIMA\n",
    "from statsmodels.tsa.statespace.sarimax import SARIMAX\n",
    "from sklearn.preprocessing import MinMaxScaler\n",
    "from sklearn.linear_model import LinearRegression"
   ]
  },
  {
   "cell_type": "code",
   "execution_count": 3,
   "id": "7212a8e9-55c0-4320-b884-7ff93727736b",
   "metadata": {},
   "outputs": [],
   "source": [
    "gas_data = pd.DataFrame({\n",
    "    'Month': ['Jan', 'Feb', 'Mar', 'Apr', 'May', 'Jun', 'Jul', 'Aug', 'Sep', 'Oct', 'Nov', 'Dec',\n",
    "             'Jan', 'Feb', 'Mar', 'Apr', 'May', 'Jun', 'Jul', 'Aug', 'Sep', 'Oct', 'Nov', 'Dec'],\n",
    "    'Gas_Use': [244, 228, 153, 140, 55, 34, 30, 28, 29, 41, 88, 199,\n",
    "               230, 245, 247, 135, 34, 33, 27, 26, 28, 39, 86, 188],\n",
    "})\n",
    "\n",
    "electricity_data = pd.DataFrame({\n",
    "    'Month': ['Jan', 'Feb', 'Mar', 'Apr', 'May', 'Jun', 'Jul', 'Aug', 'Sep', 'Oct', 'Nov', 'Dec',\n",
    "             'Jan', 'Feb', 'Mar', 'Apr', 'May', 'Jun', 'Jul', 'Aug', 'Sep', 'Oct', 'Nov', 'Dec'],\n",
    "    'Electric_Use': [967, 795, 820, 672, 722, 820, 1326, 1262, 1126, 814, 821, 918,\n",
    "                     950, 878, 785, 690, 794, 802, 1445, 1357, 1268, 889, 830, 935],\n",
    "})\n",
    "\n",
    "month_number = {'Jan': 1, 'Feb': 2, 'Mar': 3, 'Apr': 4, 'May': 5, 'Jun': 6,\n",
    "                 'Jul': 7, 'Aug': 8, 'Sep': 9, 'Oct': 10, 'Nov': 11, 'Dec': 12}\n",
    "\n",
    "gas_data['Month'] = gas_data['Month'].map(month_number)\n",
    "electricity_data['Month'] = electricity_data['Month'].map(month_number)"
   ]
  },
  {
   "cell_type": "code",
   "execution_count": 4,
   "id": "1b359379-16fd-4579-8e47-5e39c1ac1e59",
   "metadata": {},
   "outputs": [],
   "source": [
    "gas_use_col = gas_data[['Gas_Use']]\n",
    "gas_use_col = gas_use_col.reset_index(drop=True)"
   ]
  },
  {
   "cell_type": "code",
   "execution_count": 5,
   "id": "c8569d56-8257-4b96-a81a-aa521b6ab6c7",
   "metadata": {},
   "outputs": [],
   "source": [
    "electric_use_col = electricity_data[['Electric_Use']]\n",
    "electric_use_col = electric_use_col.reset_index(drop=True)"
   ]
  },
  {
   "cell_type": "markdown",
   "id": "ed740d00-3881-4954-ab5b-1acc02221180",
   "metadata": {},
   "source": [
    "Áp dụng ARIMA vào Gas"
   ]
  },
  {
   "cell_type": "code",
   "execution_count": 6,
   "id": "9ee78459-33e4-47d4-8906-036df684cd49",
   "metadata": {},
   "outputs": [],
   "source": [
    "train_size = int(0.8 * len(gas_use_col))\n",
    "test_size = int(0.2 * len(gas_use_col))"
   ]
  },
  {
   "cell_type": "code",
   "execution_count": 7,
   "id": "0614233d-fbd5-498a-ac2b-bfdc83d799cd",
   "metadata": {},
   "outputs": [],
   "source": [
    "train_data = gas_use_col[:train_size]\n",
    "test_data = gas_use_col[train_size:train_size+test_size]"
   ]
  },
  {
   "cell_type": "code",
   "execution_count": 8,
   "id": "eb5c6e37-3017-4baf-b642-234afcdc2298",
   "metadata": {},
   "outputs": [
    {
     "name": "stdout",
     "output_type": "stream",
     "text": [
      "Requirement already satisfied: pmdarima in d:\\app\\anaconda\\lib\\site-packages (2.0.4)\n",
      "Requirement already satisfied: joblib>=0.11 in d:\\app\\anaconda\\lib\\site-packages (from pmdarima) (1.2.0)\n",
      "Requirement already satisfied: Cython!=0.29.18,!=0.29.31,>=0.29 in d:\\app\\anaconda\\lib\\site-packages (from pmdarima) (3.0.10)\n",
      "Requirement already satisfied: numpy>=1.21.2 in d:\\app\\anaconda\\lib\\site-packages (from pmdarima) (1.24.3)\n",
      "Requirement already satisfied: pandas>=0.19 in d:\\app\\anaconda\\lib\\site-packages (from pmdarima) (2.1.4)\n",
      "Requirement already satisfied: scikit-learn>=0.22 in d:\\app\\anaconda\\lib\\site-packages (from pmdarima) (1.1.3)\n",
      "Requirement already satisfied: scipy>=1.3.2 in d:\\app\\anaconda\\lib\\site-packages (from pmdarima) (1.10.0)\n",
      "Requirement already satisfied: statsmodels>=0.13.2 in d:\\app\\anaconda\\lib\\site-packages (from pmdarima) (0.14.0)\n",
      "Requirement already satisfied: urllib3 in d:\\app\\anaconda\\lib\\site-packages (from pmdarima) (2.0.7)\n",
      "Requirement already satisfied: setuptools!=50.0.0,>=38.6.0 in d:\\app\\anaconda\\lib\\site-packages (from pmdarima) (68.2.2)\n",
      "Requirement already satisfied: packaging>=17.1 in d:\\app\\anaconda\\lib\\site-packages (from pmdarima) (23.1)\n",
      "Requirement already satisfied: python-dateutil>=2.8.2 in d:\\app\\anaconda\\lib\\site-packages (from pandas>=0.19->pmdarima) (2.8.2)\n",
      "Requirement already satisfied: pytz>=2020.1 in d:\\app\\anaconda\\lib\\site-packages (from pandas>=0.19->pmdarima) (2023.3.post1)\n",
      "Requirement already satisfied: tzdata>=2022.1 in d:\\app\\anaconda\\lib\\site-packages (from pandas>=0.19->pmdarima) (2023.3)\n",
      "Requirement already satisfied: threadpoolctl>=2.0.0 in d:\\app\\anaconda\\lib\\site-packages (from scikit-learn>=0.22->pmdarima) (2.2.0)\n",
      "Requirement already satisfied: patsy>=0.5.2 in d:\\app\\anaconda\\lib\\site-packages (from statsmodels>=0.13.2->pmdarima) (0.5.3)\n",
      "Requirement already satisfied: six in d:\\app\\anaconda\\lib\\site-packages (from patsy>=0.5.2->statsmodels>=0.13.2->pmdarima) (1.16.0)\n"
     ]
    }
   ],
   "source": [
    "!pip install pmdarima"
   ]
  },
  {
   "cell_type": "code",
   "execution_count": 9,
   "id": "84fb3e2f-b645-4bc8-9b79-747021df4076",
   "metadata": {
    "scrolled": true
   },
   "outputs": [
    {
     "name": "stdout",
     "output_type": "stream",
     "text": [
      "Performing stepwise search to minimize aic\n",
      " ARIMA(2,0,2)(0,0,0)[0]             : AIC=211.057, Time=0.03 sec\n",
      " ARIMA(0,0,0)(0,0,0)[0]             : AIC=245.315, Time=0.00 sec\n",
      " ARIMA(1,0,0)(0,0,0)[0]             : AIC=211.197, Time=0.01 sec\n",
      " ARIMA(0,0,1)(0,0,0)[0]             : AIC=inf, Time=0.01 sec\n",
      " ARIMA(1,0,2)(0,0,0)[0]             : AIC=209.869, Time=0.02 sec\n",
      " ARIMA(0,0,2)(0,0,0)[0]             : AIC=inf, Time=0.02 sec\n",
      " ARIMA(1,0,1)(0,0,0)[0]             : AIC=208.239, Time=0.02 sec\n",
      " ARIMA(2,0,1)(0,0,0)[0]             : AIC=209.074, Time=0.02 sec\n",
      " ARIMA(2,0,0)(0,0,0)[0]             : AIC=207.082, Time=0.01 sec\n",
      " ARIMA(3,0,0)(0,0,0)[0]             : AIC=209.073, Time=0.02 sec\n",
      " ARIMA(3,0,1)(0,0,0)[0]             : AIC=211.066, Time=0.05 sec\n",
      " ARIMA(2,0,0)(0,0,0)[0] intercept   : AIC=203.401, Time=0.03 sec\n",
      " ARIMA(1,0,0)(0,0,0)[0] intercept   : AIC=211.126, Time=0.01 sec\n",
      " ARIMA(3,0,0)(0,0,0)[0] intercept   : AIC=203.064, Time=0.04 sec\n",
      " ARIMA(4,0,0)(0,0,0)[0] intercept   : AIC=201.627, Time=0.09 sec\n",
      " ARIMA(5,0,0)(0,0,0)[0] intercept   : AIC=203.617, Time=0.14 sec\n",
      " ARIMA(4,0,1)(0,0,0)[0] intercept   : AIC=200.218, Time=0.13 sec\n",
      " ARIMA(3,0,1)(0,0,0)[0] intercept   : AIC=inf, Time=0.14 sec\n",
      " ARIMA(5,0,1)(0,0,0)[0] intercept   : AIC=inf, Time=0.19 sec\n",
      " ARIMA(4,0,2)(0,0,0)[0] intercept   : AIC=205.813, Time=0.13 sec\n",
      " ARIMA(3,0,2)(0,0,0)[0] intercept   : AIC=inf, Time=0.16 sec\n",
      " ARIMA(5,0,2)(0,0,0)[0] intercept   : AIC=204.221, Time=0.16 sec\n",
      " ARIMA(4,0,1)(0,0,0)[0]             : AIC=212.904, Time=0.04 sec\n",
      "\n",
      "Best model:  ARIMA(4,0,1)(0,0,0)[0] intercept\n",
      "Total fit time: 1.509 seconds\n"
     ]
    },
    {
     "data": {
      "text/html": [
       "<style>#sk-container-id-1 {color: black;background-color: white;}#sk-container-id-1 pre{padding: 0;}#sk-container-id-1 div.sk-toggleable {background-color: white;}#sk-container-id-1 label.sk-toggleable__label {cursor: pointer;display: block;width: 100%;margin-bottom: 0;padding: 0.3em;box-sizing: border-box;text-align: center;}#sk-container-id-1 label.sk-toggleable__label-arrow:before {content: \"▸\";float: left;margin-right: 0.25em;color: #696969;}#sk-container-id-1 label.sk-toggleable__label-arrow:hover:before {color: black;}#sk-container-id-1 div.sk-estimator:hover label.sk-toggleable__label-arrow:before {color: black;}#sk-container-id-1 div.sk-toggleable__content {max-height: 0;max-width: 0;overflow: hidden;text-align: left;background-color: #f0f8ff;}#sk-container-id-1 div.sk-toggleable__content pre {margin: 0.2em;color: black;border-radius: 0.25em;background-color: #f0f8ff;}#sk-container-id-1 input.sk-toggleable__control:checked~div.sk-toggleable__content {max-height: 200px;max-width: 100%;overflow: auto;}#sk-container-id-1 input.sk-toggleable__control:checked~label.sk-toggleable__label-arrow:before {content: \"▾\";}#sk-container-id-1 div.sk-estimator input.sk-toggleable__control:checked~label.sk-toggleable__label {background-color: #d4ebff;}#sk-container-id-1 div.sk-label input.sk-toggleable__control:checked~label.sk-toggleable__label {background-color: #d4ebff;}#sk-container-id-1 input.sk-hidden--visually {border: 0;clip: rect(1px 1px 1px 1px);clip: rect(1px, 1px, 1px, 1px);height: 1px;margin: -1px;overflow: hidden;padding: 0;position: absolute;width: 1px;}#sk-container-id-1 div.sk-estimator {font-family: monospace;background-color: #f0f8ff;border: 1px dotted black;border-radius: 0.25em;box-sizing: border-box;margin-bottom: 0.5em;}#sk-container-id-1 div.sk-estimator:hover {background-color: #d4ebff;}#sk-container-id-1 div.sk-parallel-item::after {content: \"\";width: 100%;border-bottom: 1px solid gray;flex-grow: 1;}#sk-container-id-1 div.sk-label:hover label.sk-toggleable__label {background-color: #d4ebff;}#sk-container-id-1 div.sk-serial::before {content: \"\";position: absolute;border-left: 1px solid gray;box-sizing: border-box;top: 0;bottom: 0;left: 50%;z-index: 0;}#sk-container-id-1 div.sk-serial {display: flex;flex-direction: column;align-items: center;background-color: white;padding-right: 0.2em;padding-left: 0.2em;position: relative;}#sk-container-id-1 div.sk-item {position: relative;z-index: 1;}#sk-container-id-1 div.sk-parallel {display: flex;align-items: stretch;justify-content: center;background-color: white;position: relative;}#sk-container-id-1 div.sk-item::before, #sk-container-id-1 div.sk-parallel-item::before {content: \"\";position: absolute;border-left: 1px solid gray;box-sizing: border-box;top: 0;bottom: 0;left: 50%;z-index: -1;}#sk-container-id-1 div.sk-parallel-item {display: flex;flex-direction: column;z-index: 1;position: relative;background-color: white;}#sk-container-id-1 div.sk-parallel-item:first-child::after {align-self: flex-end;width: 50%;}#sk-container-id-1 div.sk-parallel-item:last-child::after {align-self: flex-start;width: 50%;}#sk-container-id-1 div.sk-parallel-item:only-child::after {width: 0;}#sk-container-id-1 div.sk-dashed-wrapped {border: 1px dashed gray;margin: 0 0.4em 0.5em 0.4em;box-sizing: border-box;padding-bottom: 0.4em;background-color: white;}#sk-container-id-1 div.sk-label label {font-family: monospace;font-weight: bold;display: inline-block;line-height: 1.2em;}#sk-container-id-1 div.sk-label-container {text-align: center;}#sk-container-id-1 div.sk-container {/* jupyter's `normalize.less` sets `[hidden] { display: none; }` but bootstrap.min.css set `[hidden] { display: none !important; }` so we also need the `!important` here to be able to override the default hidden behavior on the sphinx rendered scikit-learn.org. See: https://github.com/scikit-learn/scikit-learn/issues/21755 */display: inline-block !important;position: relative;}#sk-container-id-1 div.sk-text-repr-fallback {display: none;}</style><div id=\"sk-container-id-1\" class=\"sk-top-container\"><div class=\"sk-text-repr-fallback\"><pre> ARIMA(4,0,1)(0,0,0)[0] intercept</pre><b>In a Jupyter environment, please rerun this cell to show the HTML representation or trust the notebook. <br />On GitHub, the HTML representation is unable to render, please try loading this page with nbviewer.org.</b></div><div class=\"sk-container\" hidden><div class=\"sk-item\"><div class=\"sk-estimator sk-toggleable\"><input class=\"sk-toggleable__control sk-hidden--visually\" id=\"sk-estimator-id-1\" type=\"checkbox\" checked><label for=\"sk-estimator-id-1\" class=\"sk-toggleable__label sk-toggleable__label-arrow\">ARIMA</label><div class=\"sk-toggleable__content\"><pre> ARIMA(4,0,1)(0,0,0)[0] intercept</pre></div></div></div></div></div>"
      ],
      "text/plain": [
       "ARIMA(order=(4, 0, 1), scoring_args={}, suppress_warnings=True)"
      ]
     },
     "execution_count": 9,
     "metadata": {},
     "output_type": "execute_result"
    }
   ],
   "source": [
    "# Quá trình Training\n",
    "x_train = np.array(train_data.index).reshape(-1, 1)\n",
    "y_train = np.array(train_data['Gas_Use'])\n",
    "# Find the best ARIMA model using auto_arima\n",
    "from pmdarima.arima import auto_arima\n",
    "model = auto_arima(y_train, trace=True, error_action='ignore', suppress_warnings=True, seasonal = False)\n",
    "# Fit the model\n",
    "model.fit(y_train)"
   ]
  },
  {
   "cell_type": "code",
   "execution_count": 10,
   "id": "e4f121dd-86a8-44fd-b04f-451cfbae0a25",
   "metadata": {},
   "outputs": [],
   "source": [
    "x_test = np.array(test_data.index).reshape(-1, 1)\n",
    "y_test = np.array(test_data['Gas_Use'])\n",
    "y_pred = model.predict(n_periods=len(y_test))"
   ]
  },
  {
   "cell_type": "markdown",
   "id": "d8b71e66-5866-472f-8d0b-fcacd424793b",
   "metadata": {},
   "source": [
    "Đánh giá độ chính xác thuật toán"
   ]
  },
  {
   "cell_type": "code",
   "execution_count": 12,
   "id": "65791764-2587-4368-9640-bf97ea7f1162",
   "metadata": {},
   "outputs": [
    {
     "name": "stdout",
     "output_type": "stream",
     "text": [
      "Testing RMSE: 34.85268219182798\n",
      "Testing MAPE: 66.14098924646645\n"
     ]
    }
   ],
   "source": [
    "test_rmse = np.sqrt(np.mean((y_pred - y_test)**2))\n",
    "print('Testing RMSE:', test_rmse)\n",
    "test_mape = np.mean(np.abs((y_test - y_pred) / y_test)) * 100\n",
    "print('Testing MAPE:', test_mape)"
   ]
  },
  {
   "cell_type": "markdown",
   "id": "5b13e481-9cc0-4277-bffb-cbe55bfcdb56",
   "metadata": {},
   "source": [
    "Áp dụng ARIMA vào Electricity"
   ]
  },
  {
   "cell_type": "code",
   "execution_count": 13,
   "id": "3a747d49-9fc9-4197-a296-54e97873ae07",
   "metadata": {},
   "outputs": [],
   "source": [
    "train_size = int(0.8 * len(electric_use_col))\n",
    "test_size = int(0.2 * len(electric_use_col))\n",
    "train_data = electric_use_col[:train_size]\n",
    "test_data = electric_use_col[train_size:train_size+test_size]"
   ]
  },
  {
   "cell_type": "code",
   "execution_count": 14,
   "id": "84d34e4b-99d6-4540-ac75-3174a4617539",
   "metadata": {},
   "outputs": [
    {
     "name": "stdout",
     "output_type": "stream",
     "text": [
      "Requirement already satisfied: pmdarima in d:\\app\\anaconda\\lib\\site-packages (2.0.4)\n",
      "Requirement already satisfied: joblib>=0.11 in d:\\app\\anaconda\\lib\\site-packages (from pmdarima) (1.2.0)\n",
      "Requirement already satisfied: Cython!=0.29.18,!=0.29.31,>=0.29 in d:\\app\\anaconda\\lib\\site-packages (from pmdarima) (3.0.10)\n",
      "Requirement already satisfied: numpy>=1.21.2 in d:\\app\\anaconda\\lib\\site-packages (from pmdarima) (1.24.3)\n",
      "Requirement already satisfied: pandas>=0.19 in d:\\app\\anaconda\\lib\\site-packages (from pmdarima) (2.1.4)\n",
      "Requirement already satisfied: scikit-learn>=0.22 in d:\\app\\anaconda\\lib\\site-packages (from pmdarima) (1.1.3)\n",
      "Requirement already satisfied: scipy>=1.3.2 in d:\\app\\anaconda\\lib\\site-packages (from pmdarima) (1.10.0)\n",
      "Requirement already satisfied: statsmodels>=0.13.2 in d:\\app\\anaconda\\lib\\site-packages (from pmdarima) (0.14.0)\n",
      "Requirement already satisfied: urllib3 in d:\\app\\anaconda\\lib\\site-packages (from pmdarima) (2.0.7)\n",
      "Requirement already satisfied: setuptools!=50.0.0,>=38.6.0 in d:\\app\\anaconda\\lib\\site-packages (from pmdarima) (68.2.2)\n",
      "Requirement already satisfied: packaging>=17.1 in d:\\app\\anaconda\\lib\\site-packages (from pmdarima) (23.1)\n",
      "Requirement already satisfied: python-dateutil>=2.8.2 in d:\\app\\anaconda\\lib\\site-packages (from pandas>=0.19->pmdarima) (2.8.2)\n",
      "Requirement already satisfied: pytz>=2020.1 in d:\\app\\anaconda\\lib\\site-packages (from pandas>=0.19->pmdarima) (2023.3.post1)\n",
      "Requirement already satisfied: tzdata>=2022.1 in d:\\app\\anaconda\\lib\\site-packages (from pandas>=0.19->pmdarima) (2023.3)\n",
      "Requirement already satisfied: threadpoolctl>=2.0.0 in d:\\app\\anaconda\\lib\\site-packages (from scikit-learn>=0.22->pmdarima) (2.2.0)\n",
      "Requirement already satisfied: patsy>=0.5.2 in d:\\app\\anaconda\\lib\\site-packages (from statsmodels>=0.13.2->pmdarima) (0.5.3)\n",
      "Requirement already satisfied: six in d:\\app\\anaconda\\lib\\site-packages (from patsy>=0.5.2->statsmodels>=0.13.2->pmdarima) (1.16.0)\n"
     ]
    }
   ],
   "source": [
    "!pip install pmdarima"
   ]
  },
  {
   "cell_type": "code",
   "execution_count": 15,
   "id": "b24df675-47e3-47c3-86a6-f4c367ab4b1a",
   "metadata": {},
   "outputs": [
    {
     "name": "stdout",
     "output_type": "stream",
     "text": [
      "Performing stepwise search to minimize aic\n",
      " ARIMA(2,0,2)(0,0,0)[0]             : AIC=inf, Time=0.10 sec\n",
      " ARIMA(0,0,0)(0,0,0)[0]             : AIC=316.088, Time=0.00 sec\n",
      " ARIMA(1,0,0)(0,0,0)[0]             : AIC=266.639, Time=0.01 sec\n",
      " ARIMA(0,0,1)(0,0,0)[0]             : AIC=301.149, Time=0.02 sec\n",
      " ARIMA(2,0,0)(0,0,0)[0]             : AIC=268.497, Time=0.03 sec\n",
      " ARIMA(1,0,1)(0,0,0)[0]             : AIC=268.512, Time=0.03 sec\n",
      " ARIMA(2,0,1)(0,0,0)[0]             : AIC=inf, Time=0.04 sec\n",
      " ARIMA(1,0,0)(0,0,0)[0] intercept   : AIC=260.777, Time=0.02 sec\n",
      " ARIMA(0,0,0)(0,0,0)[0] intercept   : AIC=261.665, Time=0.00 sec\n",
      " ARIMA(2,0,0)(0,0,0)[0] intercept   : AIC=260.300, Time=0.03 sec\n",
      " ARIMA(3,0,0)(0,0,0)[0] intercept   : AIC=258.673, Time=0.05 sec\n",
      " ARIMA(4,0,0)(0,0,0)[0] intercept   : AIC=260.274, Time=0.06 sec\n",
      " ARIMA(3,0,1)(0,0,0)[0] intercept   : AIC=260.133, Time=0.09 sec\n",
      " ARIMA(2,0,1)(0,0,0)[0] intercept   : AIC=264.588, Time=0.09 sec\n",
      " ARIMA(4,0,1)(0,0,0)[0] intercept   : AIC=262.158, Time=0.13 sec\n",
      " ARIMA(3,0,0)(0,0,0)[0]             : AIC=270.492, Time=0.04 sec\n",
      "\n",
      "Best model:  ARIMA(3,0,0)(0,0,0)[0] intercept\n",
      "Total fit time: 0.760 seconds\n"
     ]
    },
    {
     "data": {
      "text/html": [
       "<style>#sk-container-id-2 {color: black;background-color: white;}#sk-container-id-2 pre{padding: 0;}#sk-container-id-2 div.sk-toggleable {background-color: white;}#sk-container-id-2 label.sk-toggleable__label {cursor: pointer;display: block;width: 100%;margin-bottom: 0;padding: 0.3em;box-sizing: border-box;text-align: center;}#sk-container-id-2 label.sk-toggleable__label-arrow:before {content: \"▸\";float: left;margin-right: 0.25em;color: #696969;}#sk-container-id-2 label.sk-toggleable__label-arrow:hover:before {color: black;}#sk-container-id-2 div.sk-estimator:hover label.sk-toggleable__label-arrow:before {color: black;}#sk-container-id-2 div.sk-toggleable__content {max-height: 0;max-width: 0;overflow: hidden;text-align: left;background-color: #f0f8ff;}#sk-container-id-2 div.sk-toggleable__content pre {margin: 0.2em;color: black;border-radius: 0.25em;background-color: #f0f8ff;}#sk-container-id-2 input.sk-toggleable__control:checked~div.sk-toggleable__content {max-height: 200px;max-width: 100%;overflow: auto;}#sk-container-id-2 input.sk-toggleable__control:checked~label.sk-toggleable__label-arrow:before {content: \"▾\";}#sk-container-id-2 div.sk-estimator input.sk-toggleable__control:checked~label.sk-toggleable__label {background-color: #d4ebff;}#sk-container-id-2 div.sk-label input.sk-toggleable__control:checked~label.sk-toggleable__label {background-color: #d4ebff;}#sk-container-id-2 input.sk-hidden--visually {border: 0;clip: rect(1px 1px 1px 1px);clip: rect(1px, 1px, 1px, 1px);height: 1px;margin: -1px;overflow: hidden;padding: 0;position: absolute;width: 1px;}#sk-container-id-2 div.sk-estimator {font-family: monospace;background-color: #f0f8ff;border: 1px dotted black;border-radius: 0.25em;box-sizing: border-box;margin-bottom: 0.5em;}#sk-container-id-2 div.sk-estimator:hover {background-color: #d4ebff;}#sk-container-id-2 div.sk-parallel-item::after {content: \"\";width: 100%;border-bottom: 1px solid gray;flex-grow: 1;}#sk-container-id-2 div.sk-label:hover label.sk-toggleable__label {background-color: #d4ebff;}#sk-container-id-2 div.sk-serial::before {content: \"\";position: absolute;border-left: 1px solid gray;box-sizing: border-box;top: 0;bottom: 0;left: 50%;z-index: 0;}#sk-container-id-2 div.sk-serial {display: flex;flex-direction: column;align-items: center;background-color: white;padding-right: 0.2em;padding-left: 0.2em;position: relative;}#sk-container-id-2 div.sk-item {position: relative;z-index: 1;}#sk-container-id-2 div.sk-parallel {display: flex;align-items: stretch;justify-content: center;background-color: white;position: relative;}#sk-container-id-2 div.sk-item::before, #sk-container-id-2 div.sk-parallel-item::before {content: \"\";position: absolute;border-left: 1px solid gray;box-sizing: border-box;top: 0;bottom: 0;left: 50%;z-index: -1;}#sk-container-id-2 div.sk-parallel-item {display: flex;flex-direction: column;z-index: 1;position: relative;background-color: white;}#sk-container-id-2 div.sk-parallel-item:first-child::after {align-self: flex-end;width: 50%;}#sk-container-id-2 div.sk-parallel-item:last-child::after {align-self: flex-start;width: 50%;}#sk-container-id-2 div.sk-parallel-item:only-child::after {width: 0;}#sk-container-id-2 div.sk-dashed-wrapped {border: 1px dashed gray;margin: 0 0.4em 0.5em 0.4em;box-sizing: border-box;padding-bottom: 0.4em;background-color: white;}#sk-container-id-2 div.sk-label label {font-family: monospace;font-weight: bold;display: inline-block;line-height: 1.2em;}#sk-container-id-2 div.sk-label-container {text-align: center;}#sk-container-id-2 div.sk-container {/* jupyter's `normalize.less` sets `[hidden] { display: none; }` but bootstrap.min.css set `[hidden] { display: none !important; }` so we also need the `!important` here to be able to override the default hidden behavior on the sphinx rendered scikit-learn.org. See: https://github.com/scikit-learn/scikit-learn/issues/21755 */display: inline-block !important;position: relative;}#sk-container-id-2 div.sk-text-repr-fallback {display: none;}</style><div id=\"sk-container-id-2\" class=\"sk-top-container\"><div class=\"sk-text-repr-fallback\"><pre> ARIMA(3,0,0)(0,0,0)[0] intercept</pre><b>In a Jupyter environment, please rerun this cell to show the HTML representation or trust the notebook. <br />On GitHub, the HTML representation is unable to render, please try loading this page with nbviewer.org.</b></div><div class=\"sk-container\" hidden><div class=\"sk-item\"><div class=\"sk-estimator sk-toggleable\"><input class=\"sk-toggleable__control sk-hidden--visually\" id=\"sk-estimator-id-2\" type=\"checkbox\" checked><label for=\"sk-estimator-id-2\" class=\"sk-toggleable__label sk-toggleable__label-arrow\">ARIMA</label><div class=\"sk-toggleable__content\"><pre> ARIMA(3,0,0)(0,0,0)[0] intercept</pre></div></div></div></div></div>"
      ],
      "text/plain": [
       "ARIMA(order=(3, 0, 0), scoring_args={}, suppress_warnings=True)"
      ]
     },
     "execution_count": 15,
     "metadata": {},
     "output_type": "execute_result"
    }
   ],
   "source": [
    "# Quá trình Training\n",
    "x_train = np.array(train_data.index).reshape(-1, 1)\n",
    "y_train = np.array(train_data['Electric_Use'])\n",
    "# Find the best ARIMA model using auto_arima\n",
    "from pmdarima.arima import auto_arima\n",
    "model = auto_arima(y_train, trace=True, error_action='ignore', suppress_warnings=True, seasonal = False)\n",
    "# Fit the model\n",
    "model.fit(y_train)"
   ]
  },
  {
   "cell_type": "code",
   "execution_count": 16,
   "id": "87597a21-8376-4a09-a40e-867eb3f0a966",
   "metadata": {},
   "outputs": [],
   "source": [
    "x_test = np.array(test_data.index).reshape(-1, 1)\n",
    "y_test = np.array(test_data['Electric_Use'])\n",
    "y_pred = model.predict(n_periods=len(y_test))"
   ]
  },
  {
   "cell_type": "markdown",
   "id": "8180e966-5163-4cac-8265-884f0763708d",
   "metadata": {},
   "source": [
    "Đánh giá độ chính xác thuật toán\n"
   ]
  },
  {
   "cell_type": "code",
   "execution_count": 17,
   "id": "267d0d74-5d7f-41fa-8c33-e38989582ded",
   "metadata": {},
   "outputs": [
    {
     "name": "stdout",
     "output_type": "stream",
     "text": [
      "Testing RMSE: 151.58784149413765\n",
      "Testing MAPE: 14.71469503628823\n"
     ]
    }
   ],
   "source": [
    "test_rmse = np.sqrt(np.mean((y_pred - y_test)**2))\n",
    "print('Testing RMSE:', test_rmse)\n",
    "test_mape = np.mean(np.abs((y_test - y_pred) / y_test)) * 100\n",
    "print('Testing MAPE:', test_mape)"
   ]
  }
 ],
 "metadata": {
  "kernelspec": {
   "display_name": "Python 3 (ipykernel)",
   "language": "python",
   "name": "python3"
  },
  "language_info": {
   "codemirror_mode": {
    "name": "ipython",
    "version": 3
   },
   "file_extension": ".py",
   "mimetype": "text/x-python",
   "name": "python",
   "nbconvert_exporter": "python",
   "pygments_lexer": "ipython3",
   "version": "3.11.7"
  }
 },
 "nbformat": 4,
 "nbformat_minor": 5
}
