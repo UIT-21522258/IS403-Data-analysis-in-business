{
 "cells": [
  {
   "cell_type": "code",
   "execution_count": 1,
   "id": "7de40bd1-a713-46ed-bdac-c49b50831864",
   "metadata": {},
   "outputs": [
    {
     "name": "stdout",
     "output_type": "stream",
     "text": [
      "Requirement already satisfied: statsmodels in d:\\app\\anaconda\\lib\\site-packages (0.14.0)\n",
      "Requirement already satisfied: numpy>=1.18 in d:\\app\\anaconda\\lib\\site-packages (from statsmodels) (1.24.3)\n",
      "Requirement already satisfied: scipy!=1.9.2,>=1.4 in d:\\app\\anaconda\\lib\\site-packages (from statsmodels) (1.10.0)\n",
      "Requirement already satisfied: pandas>=1.0 in d:\\app\\anaconda\\lib\\site-packages (from statsmodels) (2.1.4)\n",
      "Requirement already satisfied: patsy>=0.5.2 in d:\\app\\anaconda\\lib\\site-packages (from statsmodels) (0.5.3)\n",
      "Requirement already satisfied: packaging>=21.3 in d:\\app\\anaconda\\lib\\site-packages (from statsmodels) (23.1)\n",
      "Requirement already satisfied: python-dateutil>=2.8.2 in d:\\app\\anaconda\\lib\\site-packages (from pandas>=1.0->statsmodels) (2.8.2)\n",
      "Requirement already satisfied: pytz>=2020.1 in d:\\app\\anaconda\\lib\\site-packages (from pandas>=1.0->statsmodels) (2023.3.post1)\n",
      "Requirement already satisfied: tzdata>=2022.1 in d:\\app\\anaconda\\lib\\site-packages (from pandas>=1.0->statsmodels) (2023.3)\n",
      "Requirement already satisfied: six in d:\\app\\anaconda\\lib\\site-packages (from patsy>=0.5.2->statsmodels) (1.16.0)\n"
     ]
    }
   ],
   "source": [
    "!pip install statsmodels"
   ]
  },
  {
   "cell_type": "code",
   "execution_count": 2,
   "id": "5a9e4ff6-08c4-4f9e-8ad1-c3031b3c23fa",
   "metadata": {},
   "outputs": [],
   "source": [
    "import numpy as np\n",
    "import pandas as pd\n",
    "import matplotlib.pyplot as plt\n",
    "from statsmodels.tsa.stattools import adfuller\n",
    "from statsmodels.graphics.tsaplots import plot_acf, plot_pacf\n",
    "from statsmodels.tsa.api import SimpleExpSmoothing\n",
    "from sklearn.metrics import mean_squared_error"
   ]
  },
  {
   "cell_type": "code",
   "execution_count": 3,
   "id": "605e72c6-30de-4e77-be29-1e3b9808c63e",
   "metadata": {},
   "outputs": [],
   "source": [
    "gas_data = pd.DataFrame({\n",
    "    'Month': ['Jan', 'Feb', 'Mar', 'Apr', 'May', 'Jun', 'Jul', 'Aug', 'Sep', 'Oct', 'Nov', 'Dec',\n",
    "             'Jan', 'Feb', 'Mar', 'Apr', 'May', 'Jun', 'Jul', 'Aug', 'Sep', 'Oct', 'Nov', 'Dec'],\n",
    "    'Gas_Use': [244, 228, 153, 140, 55, 34, 30, 28, 29, 41, 88, 199,\n",
    "               230, 245, 247, 135, 34, 33, 27, 26, 28, 39, 86, 188],\n",
    "})\n",
    "\n",
    "electricity_data = pd.DataFrame({\n",
    "    'Month': ['Jan', 'Feb', 'Mar', 'Apr', 'May', 'Jun', 'Jul', 'Aug', 'Sep', 'Oct', 'Nov', 'Dec',\n",
    "             'Jan', 'Feb', 'Mar', 'Apr', 'May', 'Jun', 'Jul', 'Aug', 'Sep', 'Oct', 'Nov', 'Dec'],\n",
    "    'Electric_Use': [967, 795, 820, 672, 722, 820, 1326, 1262, 1126, 814, 821, 918,\n",
    "                     950, 878, 785, 690, 794, 802, 1445, 1357, 1268, 889, 830, 935],\n",
    "})\n",
    "\n",
    "month_number = {'Jan': 1, 'Feb': 2, 'Mar': 3, 'Apr': 4, 'May': 5, 'Jun': 6,\n",
    "                 'Jul': 7, 'Aug': 8, 'Sep': 9, 'Oct': 10, 'Nov': 11, 'Dec': 12}\n",
    "\n",
    "gas_data['Month'] = gas_data['Month'].map(month_number)\n",
    "electricity_data['Month'] = electricity_data['Month'].map(month_number)"
   ]
  },
  {
   "cell_type": "markdown",
   "id": "bb06a9be-3865-4012-826e-cc9e4d59ca15",
   "metadata": {},
   "source": [
    "Áp dụng vào Gas"
   ]
  },
  {
   "cell_type": "code",
   "execution_count": 4,
   "id": "a90a4f0b-3dc5-4d1d-a8bf-13b73acec642",
   "metadata": {},
   "outputs": [],
   "source": [
    "train_data = gas_data[:int(0.8*len(gas_data))]\n",
    "test_data = gas_data[int(0.2*len(gas_data)):]\n",
    "model = SimpleExpSmoothing(train_data.Gas_Use)\n",
    "model_fit = model.fit(smoothing_level = 0.2, optimized = False)\n",
    "predictions = model_fit.forecast(len(test_data.Gas_Use))"
   ]
  },
  {
   "cell_type": "code",
   "execution_count": 5,
   "id": "548b6e2c-e908-41d1-a452-1153eb8f8e46",
   "metadata": {},
   "outputs": [
    {
     "name": "stdout",
     "output_type": "stream",
     "text": [
      "RMSE: 81.21869405902355\n",
      "MAPE: 150.65461255060833\n"
     ]
    }
   ],
   "source": [
    "rmse = np.sqrt(mean_squared_error(test_data.Gas_Use, predictions))\n",
    "print('RMSE:', rmse)\n",
    "mape = np.mean(np.abs((test_data.Gas_Use - predictions) / test_data.Gas_Use)) * 100\n",
    "print('MAPE:', mape)"
   ]
  },
  {
   "cell_type": "markdown",
   "id": "c3272168-3c19-4211-8c66-3140ae724fa2",
   "metadata": {},
   "source": [
    "Áp dụng vào Electric"
   ]
  },
  {
   "cell_type": "code",
   "execution_count": 6,
   "id": "a5bd5373-b765-4e8e-8258-414c85206e31",
   "metadata": {},
   "outputs": [],
   "source": [
    "train_data = electricity_data[:int(0.8*len(electricity_data))]\n",
    "test_data = electricity_data[int(0.2*len(electricity_data)):]\n",
    "model = SimpleExpSmoothing(train_data.Electric_Use)\n",
    "model_fit = model.fit(smoothing_level = 0.2, optimized = False)\n",
    "predictions = model_fit.forecast(len(test_data.Electric_Use))"
   ]
  },
  {
   "cell_type": "code",
   "execution_count": 7,
   "id": "627be593-880d-4dba-b65d-4c3bedb5142a",
   "metadata": {},
   "outputs": [
    {
     "name": "stdout",
     "output_type": "stream",
     "text": [
      "RMSE: 228.58218071409144\n",
      "MAPE: 15.934947323087817\n"
     ]
    }
   ],
   "source": [
    "rmse = np.sqrt(mean_squared_error(test_data.Electric_Use, predictions))\n",
    "print('RMSE:', rmse)\n",
    "mape = np.mean(np.abs((test_data.Electric_Use - predictions) / test_data.Electric_Use)) * 100\n",
    "print('MAPE:', mape)"
   ]
  },
  {
   "cell_type": "code",
   "execution_count": null,
   "id": "16fac1b1-dfc9-4b31-b02b-81ddd4da381f",
   "metadata": {},
   "outputs": [],
   "source": []
  }
 ],
 "metadata": {
  "kernelspec": {
   "display_name": "Python 3 (ipykernel)",
   "language": "python",
   "name": "python3"
  },
  "language_info": {
   "codemirror_mode": {
    "name": "ipython",
    "version": 3
   },
   "file_extension": ".py",
   "mimetype": "text/x-python",
   "name": "python",
   "nbconvert_exporter": "python",
   "pygments_lexer": "ipython3",
   "version": "3.11.7"
  }
 },
 "nbformat": 4,
 "nbformat_minor": 5
}
