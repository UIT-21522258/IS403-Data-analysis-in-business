{
 "cells": [
  {
   "cell_type": "code",
   "execution_count": 1,
   "id": "b3295eb5-1e56-40a2-8512-93af19a3c7b7",
   "metadata": {},
   "outputs": [
    {
     "name": "stdout",
     "output_type": "stream",
     "text": [
      "Requirement already satisfied: statsmodels in d:\\app\\anaconda\\lib\\site-packages (0.14.0)\n",
      "Requirement already satisfied: numpy>=1.18 in d:\\app\\anaconda\\lib\\site-packages (from statsmodels) (1.24.3)\n",
      "Requirement already satisfied: scipy!=1.9.2,>=1.4 in d:\\app\\anaconda\\lib\\site-packages (from statsmodels) (1.10.0)\n",
      "Requirement already satisfied: pandas>=1.0 in d:\\app\\anaconda\\lib\\site-packages (from statsmodels) (2.1.4)\n",
      "Requirement already satisfied: patsy>=0.5.2 in d:\\app\\anaconda\\lib\\site-packages (from statsmodels) (0.5.3)\n",
      "Requirement already satisfied: packaging>=21.3 in d:\\app\\anaconda\\lib\\site-packages (from statsmodels) (23.1)\n",
      "Requirement already satisfied: python-dateutil>=2.8.2 in d:\\app\\anaconda\\lib\\site-packages (from pandas>=1.0->statsmodels) (2.8.2)\n",
      "Requirement already satisfied: pytz>=2020.1 in d:\\app\\anaconda\\lib\\site-packages (from pandas>=1.0->statsmodels) (2023.3.post1)\n",
      "Requirement already satisfied: tzdata>=2022.1 in d:\\app\\anaconda\\lib\\site-packages (from pandas>=1.0->statsmodels) (2023.3)\n",
      "Requirement already satisfied: six in d:\\app\\anaconda\\lib\\site-packages (from patsy>=0.5.2->statsmodels) (1.16.0)\n"
     ]
    }
   ],
   "source": [
    "!pip install statsmodels"
   ]
  },
  {
   "cell_type": "code",
   "execution_count": 2,
   "id": "c014a97a-c5a1-45dd-aaad-e78d7bd424fa",
   "metadata": {},
   "outputs": [],
   "source": [
    "import numpy as np\n",
    "import pandas as pd\n",
    "import matplotlib.pyplot as plt\n",
    "from statsmodels.tsa.stattools import adfuller\n",
    "from statsmodels.graphics.tsaplots import plot_acf, plot_pacf\n",
    "from statsmodels.tsa.arima.model import ARIMA\n",
    "from statsmodels.tsa.statespace.sarimax import SARIMAX\n",
    "from sklearn.preprocessing import MinMaxScaler\n",
    "from sklearn.linear_model import LinearRegression"
   ]
  },
  {
   "cell_type": "code",
   "execution_count": 3,
   "id": "7212a8e9-55c0-4320-b884-7ff93727736b",
   "metadata": {},
   "outputs": [],
   "source": [
    "gas_data = pd.DataFrame({\n",
    "    'Month': ['Jan', 'Feb', 'Mar', 'Apr', 'May', 'Jun', 'Jul', 'Aug', 'Sep', 'Oct', 'Nov', 'Dec',\n",
    "             'Jan', 'Feb', 'Mar', 'Apr', 'May', 'Jun', 'Jul', 'Aug', 'Sep', 'Oct', 'Nov', 'Dec'],\n",
    "    'Gas_Use': [244, 228, 153, 140, 55, 34, 30, 28, 29, 41, 88, 199,\n",
    "               230, 245, 247, 135, 34, 33, 27, 26, 28, 39, 86, 188],\n",
    "})\n",
    "\n",
    "electricity_data = pd.DataFrame({\n",
    "    'Month': ['Jan', 'Feb', 'Mar', 'Apr', 'May', 'Jun', 'Jul', 'Aug', 'Sep', 'Oct', 'Nov', 'Dec',\n",
    "             'Jan', 'Feb', 'Mar', 'Apr', 'May', 'Jun', 'Jul', 'Aug', 'Sep', 'Oct', 'Nov', 'Dec'],\n",
    "    'Electric_Use': [967, 795, 820, 672, 722, 820, 1326, 1262, 1126, 814, 821, 918,\n",
    "                     950, 878, 785, 690, 794, 802, 1445, 1357, 1268, 889, 830, 935],\n",
    "})\n",
    "\n",
    "month_number = {'Jan': 1, 'Feb': 2, 'Mar': 3, 'Apr': 4, 'May': 5, 'Jun': 6,\n",
    "                 'Jul': 7, 'Aug': 8, 'Sep': 9, 'Oct': 10, 'Nov': 11, 'Dec': 12}\n",
    "\n",
    "gas_data['Month'] = gas_data['Month'].map(month_number)\n",
    "electricity_data['Month'] = electricity_data['Month'].map(month_number)"
   ]
  },
  {
   "cell_type": "code",
   "execution_count": 4,
   "id": "1b359379-16fd-4579-8e47-5e39c1ac1e59",
   "metadata": {},
   "outputs": [],
   "source": [
    "gas_use_col = gas_data[['Gas_Use']]\n",
    "gas_use_col = gas_use_col.reset_index(drop=True)"
   ]
  },
  {
   "cell_type": "code",
   "execution_count": 5,
   "id": "c8569d56-8257-4b96-a81a-aa521b6ab6c7",
   "metadata": {},
   "outputs": [],
   "source": [
    "electric_use_col = electricity_data[['Electric_Use']]\n",
    "electric_use_col = electric_use_col.reset_index(drop=True)"
   ]
  },
  {
   "cell_type": "markdown",
   "id": "ed740d00-3881-4954-ab5b-1acc02221180",
   "metadata": {},
   "source": [
    "Áp dụng ARIMA vào Gas"
   ]
  },
  {
   "cell_type": "code",
   "execution_count": 6,
   "id": "9ee78459-33e4-47d4-8906-036df684cd49",
   "metadata": {},
   "outputs": [],
   "source": [
    "train_size = int(0.8 * len(gas_use_col))\n",
    "test_size = int(0.8 * len(gas_use_col))"
   ]
  },
  {
   "cell_type": "code",
   "execution_count": 7,
   "id": "0614233d-fbd5-498a-ac2b-bfdc83d799cd",
   "metadata": {},
   "outputs": [],
   "source": [
    "train_data = gas_use_col[:train_size]\n",
    "test_data = gas_use_col[train_size:train_size+test_size]"
   ]
  },
  {
   "cell_type": "code",
   "execution_count": 8,
   "id": "eb5c6e37-3017-4baf-b642-234afcdc2298",
   "metadata": {},
   "outputs": [
    {
     "name": "stdout",
     "output_type": "stream",
     "text": [
      "Requirement already satisfied: pmdarima in d:\\app\\anaconda\\lib\\site-packages (2.0.4)\n",
      "Requirement already satisfied: joblib>=0.11 in d:\\app\\anaconda\\lib\\site-packages (from pmdarima) (1.2.0)\n",
      "Requirement already satisfied: Cython!=0.29.18,!=0.29.31,>=0.29 in d:\\app\\anaconda\\lib\\site-packages (from pmdarima) (3.0.10)\n",
      "Requirement already satisfied: numpy>=1.21.2 in d:\\app\\anaconda\\lib\\site-packages (from pmdarima) (1.24.3)\n",
      "Requirement already satisfied: pandas>=0.19 in d:\\app\\anaconda\\lib\\site-packages (from pmdarima) (2.1.4)\n",
      "Requirement already satisfied: scikit-learn>=0.22 in d:\\app\\anaconda\\lib\\site-packages (from pmdarima) (1.1.3)\n",
      "Requirement already satisfied: scipy>=1.3.2 in d:\\app\\anaconda\\lib\\site-packages (from pmdarima) (1.10.0)\n",
      "Requirement already satisfied: statsmodels>=0.13.2 in d:\\app\\anaconda\\lib\\site-packages (from pmdarima) (0.14.0)\n",
      "Requirement already satisfied: urllib3 in d:\\app\\anaconda\\lib\\site-packages (from pmdarima) (2.0.7)\n",
      "Requirement already satisfied: setuptools!=50.0.0,>=38.6.0 in d:\\app\\anaconda\\lib\\site-packages (from pmdarima) (68.2.2)\n",
      "Requirement already satisfied: packaging>=17.1 in d:\\app\\anaconda\\lib\\site-packages (from pmdarima) (23.1)\n",
      "Requirement already satisfied: python-dateutil>=2.8.2 in d:\\app\\anaconda\\lib\\site-packages (from pandas>=0.19->pmdarima) (2.8.2)\n",
      "Requirement already satisfied: pytz>=2020.1 in d:\\app\\anaconda\\lib\\site-packages (from pandas>=0.19->pmdarima) (2023.3.post1)\n",
      "Requirement already satisfied: tzdata>=2022.1 in d:\\app\\anaconda\\lib\\site-packages (from pandas>=0.19->pmdarima) (2023.3)\n",
      "Requirement already satisfied: threadpoolctl>=2.0.0 in d:\\app\\anaconda\\lib\\site-packages (from scikit-learn>=0.22->pmdarima) (2.2.0)\n",
      "Requirement already satisfied: patsy>=0.5.2 in d:\\app\\anaconda\\lib\\site-packages (from statsmodels>=0.13.2->pmdarima) (0.5.3)\n",
      "Requirement already satisfied: six in d:\\app\\anaconda\\lib\\site-packages (from patsy>=0.5.2->statsmodels>=0.13.2->pmdarima) (1.16.0)\n"
     ]
    }
   ],
   "source": [
    "!pip install pmdarima"
   ]
  },
  {
   "cell_type": "code",
   "execution_count": 9,
   "id": "84fb3e2f-b645-4bc8-9b79-747021df4076",
   "metadata": {
    "scrolled": true
   },
   "outputs": [],
   "source": [
    "# Quá trình Training\n",
    "model = SARIMAX(train_data.Gas_Use, order=(0, 2, 0), seasonal_order=(0, 2, 0, 12))\n",
    "results = model.fit()"
   ]
  },
  {
   "cell_type": "code",
   "execution_count": 10,
   "id": "e4f121dd-86a8-44fd-b04f-451cfbae0a25",
   "metadata": {},
   "outputs": [],
   "source": [
    "y_test = np.array(test_data['Gas_Use'])\n",
    "y_pred = results.forecast(steps=len(y_test))"
   ]
  },
  {
   "cell_type": "markdown",
   "id": "d8b71e66-5866-472f-8d0b-fcacd424793b",
   "metadata": {},
   "source": [
    "Đánh giá độ chính xác thuật toán"
   ]
  },
  {
   "cell_type": "code",
   "execution_count": 11,
   "id": "65791764-2587-4368-9640-bf97ea7f1162",
   "metadata": {},
   "outputs": [
    {
     "name": "stdout",
     "output_type": "stream",
     "text": [
      "Testing RMSE: 43.29145412203144\n",
      "Testing MAPE: 21.98392157075964\n"
     ]
    }
   ],
   "source": [
    "test_rmse = np.sqrt(np.mean((y_pred - y_test)**2))\n",
    "print('Testing RMSE:', test_rmse)\n",
    "test_mape = np.mean(np.abs((y_test - y_pred) / y_test)) * 100\n",
    "print('Testing MAPE:', test_mape)"
   ]
  },
  {
   "cell_type": "markdown",
   "id": "5b13e481-9cc0-4277-bffb-cbe55bfcdb56",
   "metadata": {},
   "source": [
    "Áp dụng ARIMA vào Electricity"
   ]
  },
  {
   "cell_type": "code",
   "execution_count": 12,
   "id": "3a747d49-9fc9-4197-a296-54e97873ae07",
   "metadata": {},
   "outputs": [],
   "source": [
    "train_size = int(0.8 * len(electric_use_col))\n",
    "test_size = int(0.8 * len(electric_use_col))\n",
    "train_data = electric_use_col[:train_size]\n",
    "test_data = electric_use_col[train_size:train_size+test_size]"
   ]
  },
  {
   "cell_type": "code",
   "execution_count": 13,
   "id": "b24df675-47e3-47c3-86a6-f4c367ab4b1a",
   "metadata": {},
   "outputs": [],
   "source": [
    "# Quá trình Training\n",
    "model = ARIMA(train_data.Electric_Use, order=(1, 0, 1))\n",
    "fitted_model = model.fit()"
   ]
  },
  {
   "cell_type": "code",
   "execution_count": 14,
   "id": "87597a21-8376-4a09-a40e-867eb3f0a966",
   "metadata": {},
   "outputs": [],
   "source": [
    "y_test = np.array(test_data['Electric_Use'])\n",
    "y_pred = fitted_model.forecast(steps=len(y_test))"
   ]
  },
  {
   "cell_type": "markdown",
   "id": "8180e966-5163-4cac-8265-884f0763708d",
   "metadata": {},
   "source": [
    "Đánh giá độ chính xác thuật toán\n"
   ]
  },
  {
   "cell_type": "code",
   "execution_count": 15,
   "id": "267d0d74-5d7f-41fa-8c33-e38989582ded",
   "metadata": {},
   "outputs": [
    {
     "name": "stdout",
     "output_type": "stream",
     "text": [
      "Testing RMSE: 134.6542498435286\n",
      "Testing MAPE: 10.291792845839312\n"
     ]
    }
   ],
   "source": [
    "test_rmse = np.sqrt(np.mean((y_pred - y_test)**2))\n",
    "print('Testing RMSE:', test_rmse)\n",
    "test_mape = np.mean(np.abs((y_test - y_pred) / y_test)) * 100\n",
    "print('Testing MAPE:', test_mape)"
   ]
  }
 ],
 "metadata": {
  "kernelspec": {
   "display_name": "Python 3 (ipykernel)",
   "language": "python",
   "name": "python3"
  },
  "language_info": {
   "codemirror_mode": {
    "name": "ipython",
    "version": 3
   },
   "file_extension": ".py",
   "mimetype": "text/x-python",
   "name": "python",
   "nbconvert_exporter": "python",
   "pygments_lexer": "ipython3",
   "version": "3.11.7"
  }
 },
 "nbformat": 4,
 "nbformat_minor": 5
}
