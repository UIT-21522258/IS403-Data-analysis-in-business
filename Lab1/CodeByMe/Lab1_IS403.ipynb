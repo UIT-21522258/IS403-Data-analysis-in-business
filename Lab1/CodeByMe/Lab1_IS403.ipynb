{
 "cells": [
  {
   "cell_type": "code",
   "execution_count": 1,
   "id": "ef7daa7d-c8d7-4bde-811b-b128c6227272",
   "metadata": {},
   "outputs": [],
   "source": [
    "import numpy as np"
   ]
  },
  {
   "cell_type": "code",
   "execution_count": 2,
   "id": "9ccf1a71-5332-46d4-bb55-d102093e5e73",
   "metadata": {},
   "outputs": [],
   "source": [
    "import pandas as pd\n",
    "import statistics as st\n",
    "import matplotlib.pyplot as plt\n"
   ]
  },
  {
   "cell_type": "code",
   "execution_count": 3,
   "id": "257fd5a7-779d-4368-848c-6894327e81ef",
   "metadata": {},
   "outputs": [
    {
     "data": {
      "text/html": [
       "<div>\n",
       "<style scoped>\n",
       "    .dataframe tbody tr th:only-of-type {\n",
       "        vertical-align: middle;\n",
       "    }\n",
       "\n",
       "    .dataframe tbody tr th {\n",
       "        vertical-align: top;\n",
       "    }\n",
       "\n",
       "    .dataframe thead th {\n",
       "        text-align: right;\n",
       "    }\n",
       "</style>\n",
       "<table border=\"1\" class=\"dataframe\">\n",
       "  <thead>\n",
       "    <tr style=\"text-align: right;\">\n",
       "      <th></th>\n",
       "      <th>HouseAge</th>\n",
       "      <th>SquareFeet</th>\n",
       "      <th>MarketValue</th>\n",
       "    </tr>\n",
       "  </thead>\n",
       "  <tbody>\n",
       "    <tr>\n",
       "      <th>0</th>\n",
       "      <td>33</td>\n",
       "      <td>1812</td>\n",
       "      <td>90000</td>\n",
       "    </tr>\n",
       "    <tr>\n",
       "      <th>1</th>\n",
       "      <td>32</td>\n",
       "      <td>1914</td>\n",
       "      <td>104400</td>\n",
       "    </tr>\n",
       "    <tr>\n",
       "      <th>2</th>\n",
       "      <td>32</td>\n",
       "      <td>1842</td>\n",
       "      <td>93300</td>\n",
       "    </tr>\n",
       "    <tr>\n",
       "      <th>3</th>\n",
       "      <td>33</td>\n",
       "      <td>1812</td>\n",
       "      <td>91000</td>\n",
       "    </tr>\n",
       "    <tr>\n",
       "      <th>4</th>\n",
       "      <td>32</td>\n",
       "      <td>1836</td>\n",
       "      <td>101900</td>\n",
       "    </tr>\n",
       "    <tr>\n",
       "      <th>5</th>\n",
       "      <td>33</td>\n",
       "      <td>2028</td>\n",
       "      <td>108500</td>\n",
       "    </tr>\n",
       "    <tr>\n",
       "      <th>6</th>\n",
       "      <td>32</td>\n",
       "      <td>1732</td>\n",
       "      <td>87600</td>\n",
       "    </tr>\n",
       "    <tr>\n",
       "      <th>7</th>\n",
       "      <td>33</td>\n",
       "      <td>1850</td>\n",
       "      <td>96000</td>\n",
       "    </tr>\n",
       "    <tr>\n",
       "      <th>8</th>\n",
       "      <td>32</td>\n",
       "      <td>1791</td>\n",
       "      <td>89200</td>\n",
       "    </tr>\n",
       "    <tr>\n",
       "      <th>9</th>\n",
       "      <td>33</td>\n",
       "      <td>1666</td>\n",
       "      <td>88400</td>\n",
       "    </tr>\n",
       "    <tr>\n",
       "      <th>10</th>\n",
       "      <td>32</td>\n",
       "      <td>1852</td>\n",
       "      <td>100800</td>\n",
       "    </tr>\n",
       "    <tr>\n",
       "      <th>11</th>\n",
       "      <td>32</td>\n",
       "      <td>1620</td>\n",
       "      <td>96700</td>\n",
       "    </tr>\n",
       "    <tr>\n",
       "      <th>12</th>\n",
       "      <td>32</td>\n",
       "      <td>1692</td>\n",
       "      <td>87500</td>\n",
       "    </tr>\n",
       "    <tr>\n",
       "      <th>13</th>\n",
       "      <td>32</td>\n",
       "      <td>2372</td>\n",
       "      <td>114000</td>\n",
       "    </tr>\n",
       "    <tr>\n",
       "      <th>14</th>\n",
       "      <td>32</td>\n",
       "      <td>2372</td>\n",
       "      <td>113200</td>\n",
       "    </tr>\n",
       "    <tr>\n",
       "      <th>15</th>\n",
       "      <td>33</td>\n",
       "      <td>1666</td>\n",
       "      <td>87500</td>\n",
       "    </tr>\n",
       "    <tr>\n",
       "      <th>16</th>\n",
       "      <td>32</td>\n",
       "      <td>2123</td>\n",
       "      <td>116100</td>\n",
       "    </tr>\n",
       "    <tr>\n",
       "      <th>17</th>\n",
       "      <td>32</td>\n",
       "      <td>1620</td>\n",
       "      <td>94700</td>\n",
       "    </tr>\n",
       "    <tr>\n",
       "      <th>18</th>\n",
       "      <td>32</td>\n",
       "      <td>1731</td>\n",
       "      <td>86400</td>\n",
       "    </tr>\n",
       "    <tr>\n",
       "      <th>19</th>\n",
       "      <td>32</td>\n",
       "      <td>1666</td>\n",
       "      <td>87100</td>\n",
       "    </tr>\n",
       "    <tr>\n",
       "      <th>20</th>\n",
       "      <td>28</td>\n",
       "      <td>1520</td>\n",
       "      <td>83400</td>\n",
       "    </tr>\n",
       "    <tr>\n",
       "      <th>21</th>\n",
       "      <td>27</td>\n",
       "      <td>1484</td>\n",
       "      <td>79800</td>\n",
       "    </tr>\n",
       "    <tr>\n",
       "      <th>22</th>\n",
       "      <td>28</td>\n",
       "      <td>1588</td>\n",
       "      <td>81500</td>\n",
       "    </tr>\n",
       "    <tr>\n",
       "      <th>23</th>\n",
       "      <td>28</td>\n",
       "      <td>1598</td>\n",
       "      <td>87100</td>\n",
       "    </tr>\n",
       "    <tr>\n",
       "      <th>24</th>\n",
       "      <td>28</td>\n",
       "      <td>1484</td>\n",
       "      <td>82600</td>\n",
       "    </tr>\n",
       "    <tr>\n",
       "      <th>25</th>\n",
       "      <td>28</td>\n",
       "      <td>1484</td>\n",
       "      <td>78800</td>\n",
       "    </tr>\n",
       "    <tr>\n",
       "      <th>26</th>\n",
       "      <td>28</td>\n",
       "      <td>1520</td>\n",
       "      <td>87600</td>\n",
       "    </tr>\n",
       "    <tr>\n",
       "      <th>27</th>\n",
       "      <td>27</td>\n",
       "      <td>1701</td>\n",
       "      <td>94200</td>\n",
       "    </tr>\n",
       "    <tr>\n",
       "      <th>28</th>\n",
       "      <td>28</td>\n",
       "      <td>1484</td>\n",
       "      <td>82000</td>\n",
       "    </tr>\n",
       "    <tr>\n",
       "      <th>29</th>\n",
       "      <td>28</td>\n",
       "      <td>1468</td>\n",
       "      <td>88100</td>\n",
       "    </tr>\n",
       "    <tr>\n",
       "      <th>30</th>\n",
       "      <td>28</td>\n",
       "      <td>1520</td>\n",
       "      <td>88100</td>\n",
       "    </tr>\n",
       "    <tr>\n",
       "      <th>31</th>\n",
       "      <td>27</td>\n",
       "      <td>1520</td>\n",
       "      <td>88600</td>\n",
       "    </tr>\n",
       "    <tr>\n",
       "      <th>32</th>\n",
       "      <td>27</td>\n",
       "      <td>1484</td>\n",
       "      <td>76600</td>\n",
       "    </tr>\n",
       "    <tr>\n",
       "      <th>33</th>\n",
       "      <td>28</td>\n",
       "      <td>1520</td>\n",
       "      <td>84400</td>\n",
       "    </tr>\n",
       "    <tr>\n",
       "      <th>34</th>\n",
       "      <td>27</td>\n",
       "      <td>1668</td>\n",
       "      <td>90900</td>\n",
       "    </tr>\n",
       "    <tr>\n",
       "      <th>35</th>\n",
       "      <td>28</td>\n",
       "      <td>1588</td>\n",
       "      <td>81000</td>\n",
       "    </tr>\n",
       "    <tr>\n",
       "      <th>36</th>\n",
       "      <td>28</td>\n",
       "      <td>1784</td>\n",
       "      <td>91300</td>\n",
       "    </tr>\n",
       "    <tr>\n",
       "      <th>37</th>\n",
       "      <td>27</td>\n",
       "      <td>1484</td>\n",
       "      <td>81300</td>\n",
       "    </tr>\n",
       "    <tr>\n",
       "      <th>38</th>\n",
       "      <td>27</td>\n",
       "      <td>1520</td>\n",
       "      <td>100700</td>\n",
       "    </tr>\n",
       "    <tr>\n",
       "      <th>39</th>\n",
       "      <td>28</td>\n",
       "      <td>1520</td>\n",
       "      <td>87200</td>\n",
       "    </tr>\n",
       "    <tr>\n",
       "      <th>40</th>\n",
       "      <td>27</td>\n",
       "      <td>1684</td>\n",
       "      <td>96700</td>\n",
       "    </tr>\n",
       "    <tr>\n",
       "      <th>41</th>\n",
       "      <td>27</td>\n",
       "      <td>1581</td>\n",
       "      <td>120700</td>\n",
       "    </tr>\n",
       "  </tbody>\n",
       "</table>\n",
       "</div>"
      ],
      "text/plain": [
       "    HouseAge  SquareFeet  MarketValue\n",
       "0         33        1812        90000\n",
       "1         32        1914       104400\n",
       "2         32        1842        93300\n",
       "3         33        1812        91000\n",
       "4         32        1836       101900\n",
       "5         33        2028       108500\n",
       "6         32        1732        87600\n",
       "7         33        1850        96000\n",
       "8         32        1791        89200\n",
       "9         33        1666        88400\n",
       "10        32        1852       100800\n",
       "11        32        1620        96700\n",
       "12        32        1692        87500\n",
       "13        32        2372       114000\n",
       "14        32        2372       113200\n",
       "15        33        1666        87500\n",
       "16        32        2123       116100\n",
       "17        32        1620        94700\n",
       "18        32        1731        86400\n",
       "19        32        1666        87100\n",
       "20        28        1520        83400\n",
       "21        27        1484        79800\n",
       "22        28        1588        81500\n",
       "23        28        1598        87100\n",
       "24        28        1484        82600\n",
       "25        28        1484        78800\n",
       "26        28        1520        87600\n",
       "27        27        1701        94200\n",
       "28        28        1484        82000\n",
       "29        28        1468        88100\n",
       "30        28        1520        88100\n",
       "31        27        1520        88600\n",
       "32        27        1484        76600\n",
       "33        28        1520        84400\n",
       "34        27        1668        90900\n",
       "35        28        1588        81000\n",
       "36        28        1784        91300\n",
       "37        27        1484        81300\n",
       "38        27        1520       100700\n",
       "39        28        1520        87200\n",
       "40        27        1684        96700\n",
       "41        27        1581       120700"
      ]
     },
     "execution_count": 3,
     "metadata": {},
     "output_type": "execute_result"
    }
   ],
   "source": [
    "home = pd.read_csv(\"Home_market.csv\")\n",
    "home.head(43)"
   ]
  },
  {
   "cell_type": "code",
   "execution_count": 4,
   "id": "354cecb1-e975-48ef-943e-ff35bdb2cb33",
   "metadata": {},
   "outputs": [],
   "source": [
    "sf = home['SquareFeet']\n",
    "mv = home['MarketValue']\n"
   ]
  },
  {
   "cell_type": "code",
   "execution_count": 5,
   "id": "ce06ec98-c7f7-4903-b678-66af1adce360",
   "metadata": {},
   "outputs": [
    {
     "data": {
      "text/plain": [
       "0    1812\n",
       "1    1914\n",
       "2    1842\n",
       "3    1812\n",
       "4    1836\n",
       "Name: SquareFeet, dtype: int64"
      ]
     },
     "execution_count": 5,
     "metadata": {},
     "output_type": "execute_result"
    }
   ],
   "source": [
    "sf.head()\n"
   ]
  },
  {
   "cell_type": "code",
   "execution_count": 6,
   "id": "112fc0e9-8110-4a47-8fd7-ec0749d345f8",
   "metadata": {},
   "outputs": [
    {
     "data": {
      "text/plain": [
       "0     90000\n",
       "1    104400\n",
       "2     93300\n",
       "3     91000\n",
       "4    101900\n",
       "Name: MarketValue, dtype: int64"
      ]
     },
     "execution_count": 6,
     "metadata": {},
     "output_type": "execute_result"
    }
   ],
   "source": [
    "mv.head()"
   ]
  },
  {
   "cell_type": "code",
   "execution_count": 7,
   "id": "21c84440-7791-48b6-8ea4-22f7b958d813",
   "metadata": {},
   "outputs": [
    {
     "data": {
      "text/html": [
       "<div>\n",
       "<style scoped>\n",
       "    .dataframe tbody tr th:only-of-type {\n",
       "        vertical-align: middle;\n",
       "    }\n",
       "\n",
       "    .dataframe tbody tr th {\n",
       "        vertical-align: top;\n",
       "    }\n",
       "\n",
       "    .dataframe thead th {\n",
       "        text-align: right;\n",
       "    }\n",
       "</style>\n",
       "<table border=\"1\" class=\"dataframe\">\n",
       "  <thead>\n",
       "    <tr style=\"text-align: right;\">\n",
       "      <th></th>\n",
       "      <th>HouseAge</th>\n",
       "      <th>SquareFeet</th>\n",
       "      <th>MarketValue</th>\n",
       "    </tr>\n",
       "  </thead>\n",
       "  <tbody>\n",
       "    <tr>\n",
       "      <th>13</th>\n",
       "      <td>32</td>\n",
       "      <td>2372</td>\n",
       "      <td>114000</td>\n",
       "    </tr>\n",
       "    <tr>\n",
       "      <th>14</th>\n",
       "      <td>32</td>\n",
       "      <td>2372</td>\n",
       "      <td>113200</td>\n",
       "    </tr>\n",
       "  </tbody>\n",
       "</table>\n",
       "</div>"
      ],
      "text/plain": [
       "    HouseAge  SquareFeet  MarketValue\n",
       "13        32        2372       114000\n",
       "14        32        2372       113200"
      ]
     },
     "execution_count": 7,
     "metadata": {},
     "output_type": "execute_result"
    }
   ],
   "source": [
    "q1_sf = sf.quantile(0.25)\n",
    "q3_sf = sf.quantile(0.75)\n",
    "iqr_sf = q3_sf - q1_sf\n",
    "lower_bound_sf = q1_sf - iqr_sf * 1.5\n",
    "upper_bound_sf = q3_sf + iqr_sf * 1.5\n",
    "outliers_sf = home[(sf < lower_bound_sf) | (sf > upper_bound_sf)]\n",
    "outliers_sf"
   ]
  },
  {
   "cell_type": "code",
   "execution_count": 8,
   "id": "25524c33-6851-416f-8d80-76ce4a53fb5f",
   "metadata": {},
   "outputs": [
    {
     "data": {
      "text/html": [
       "<div>\n",
       "<style scoped>\n",
       "    .dataframe tbody tr th:only-of-type {\n",
       "        vertical-align: middle;\n",
       "    }\n",
       "\n",
       "    .dataframe tbody tr th {\n",
       "        vertical-align: top;\n",
       "    }\n",
       "\n",
       "    .dataframe thead th {\n",
       "        text-align: right;\n",
       "    }\n",
       "</style>\n",
       "<table border=\"1\" class=\"dataframe\">\n",
       "  <thead>\n",
       "    <tr style=\"text-align: right;\">\n",
       "      <th></th>\n",
       "      <th>HouseAge</th>\n",
       "      <th>SquareFeet</th>\n",
       "      <th>MarketValue</th>\n",
       "    </tr>\n",
       "  </thead>\n",
       "  <tbody>\n",
       "    <tr>\n",
       "      <th>13</th>\n",
       "      <td>32</td>\n",
       "      <td>2372</td>\n",
       "      <td>114000</td>\n",
       "    </tr>\n",
       "    <tr>\n",
       "      <th>14</th>\n",
       "      <td>32</td>\n",
       "      <td>2372</td>\n",
       "      <td>113200</td>\n",
       "    </tr>\n",
       "    <tr>\n",
       "      <th>16</th>\n",
       "      <td>32</td>\n",
       "      <td>2123</td>\n",
       "      <td>116100</td>\n",
       "    </tr>\n",
       "    <tr>\n",
       "      <th>41</th>\n",
       "      <td>27</td>\n",
       "      <td>1581</td>\n",
       "      <td>120700</td>\n",
       "    </tr>\n",
       "  </tbody>\n",
       "</table>\n",
       "</div>"
      ],
      "text/plain": [
       "    HouseAge  SquareFeet  MarketValue\n",
       "13        32        2372       114000\n",
       "14        32        2372       113200\n",
       "16        32        2123       116100\n",
       "41        27        1581       120700"
      ]
     },
     "execution_count": 8,
     "metadata": {},
     "output_type": "execute_result"
    }
   ],
   "source": [
    "q1_mv = mv.quantile(0.25)\n",
    "q3_mv = mv.quantile(0.75)\n",
    "iqr_mv = q3_mv - q1_mv\n",
    "lower_bound_mv = q1_mv - iqr_mv * 1.5\n",
    "upper_bound_mv = q3_mv + iqr_mv * 1.5\n",
    "outliers_mv = home[(mv < lower_bound_mv) | (mv > upper_bound_mv)]\n",
    "outliers_mv"
   ]
  },
  {
   "cell_type": "code",
   "execution_count": 9,
   "id": "f7f506cb-5d32-425d-b918-d0d176a58769",
   "metadata": {},
   "outputs": [
    {
     "name": "stdout",
     "output_type": "stream",
     "text": [
      "1520.0\n",
      "1806.75\n",
      "286.75\n",
      "1089.875\n",
      "2236.875\n"
     ]
    }
   ],
   "source": [
    "print(q1_sf)\n",
    "print(q3_sf)\n",
    "print(iqr_sf)\n",
    "print(lower_bound_sf)\n",
    "print(upper_bound_sf)"
   ]
  },
  {
   "cell_type": "code",
   "execution_count": 10,
   "id": "254bda97-8408-48ea-a3dd-56c361a773d1",
   "metadata": {},
   "outputs": [
    {
     "name": "stdout",
     "output_type": "stream",
     "text": [
      "86575.0\n",
      "96525.0\n",
      "9950.0\n",
      "71650.0\n",
      "111450.0\n"
     ]
    }
   ],
   "source": [
    "print(q1_mv)\n",
    "print(q3_mv)\n",
    "print(iqr_mv)\n",
    "print(lower_bound_mv)\n",
    "print(upper_bound_mv)"
   ]
  },
  {
   "cell_type": "code",
   "execution_count": 11,
   "id": "7865ee10-9d20-49e3-86e1-d528d71e9c11",
   "metadata": {},
   "outputs": [],
   "source": [
    "mean_value = np.mean(sf)\n",
    "std_dev = np.std(sf)"
   ]
  },
  {
   "cell_type": "code",
   "execution_count": 12,
   "id": "df0f0eb7-7e2e-4f1f-8f82-a2b2c65d8a07",
   "metadata": {},
   "outputs": [
    {
     "name": "stdout",
     "output_type": "stream",
     "text": [
      "1695.2619047619048\n"
     ]
    }
   ],
   "source": [
    "print(mean_value)"
   ]
  },
  {
   "cell_type": "code",
   "execution_count": 13,
   "id": "5ec301cb-1066-4063-b8d2-23db798ba8fc",
   "metadata": {},
   "outputs": [
    {
     "name": "stdout",
     "output_type": "stream",
     "text": [
      "217.61883010304848\n"
     ]
    }
   ],
   "source": [
    "print(std_dev)"
   ]
  },
  {
   "cell_type": "code",
   "execution_count": 14,
   "id": "f1ac886a-8a75-4575-806d-ec6c2385833b",
   "metadata": {},
   "outputs": [
    {
     "data": {
      "text/plain": [
       "0     0.536434\n",
       "1     1.005143\n",
       "2     0.674290\n",
       "3     0.536434\n",
       "4     0.646718\n",
       "5     1.528995\n",
       "6     0.168819\n",
       "7     0.711051\n",
       "8     0.439935\n",
       "9    -0.134464\n",
       "10    0.720241\n",
       "11   -0.345843\n",
       "12   -0.014989\n",
       "13    3.109741\n",
       "14    3.109741\n",
       "15   -0.134464\n",
       "16    1.965538\n",
       "17   -0.345843\n",
       "18    0.164223\n",
       "19   -0.134464\n",
       "20   -0.805362\n",
       "21   -0.970789\n",
       "22   -0.492889\n",
       "23   -0.446937\n",
       "24   -0.970789\n",
       "25   -0.970789\n",
       "26   -0.805362\n",
       "27    0.026368\n",
       "28   -0.970789\n",
       "29   -1.044312\n",
       "30   -0.805362\n",
       "31   -0.805362\n",
       "32   -0.970789\n",
       "33   -0.805362\n",
       "34   -0.125274\n",
       "35   -0.492889\n",
       "36    0.407768\n",
       "37   -0.970789\n",
       "38   -0.805362\n",
       "39   -0.805362\n",
       "40   -0.051751\n",
       "41   -0.525055\n",
       "Name: SquareFeet, dtype: float64"
      ]
     },
     "execution_count": 14,
     "metadata": {},
     "output_type": "execute_result"
    }
   ],
   "source": [
    "z_scores = (sf - mean_value) / std_dev\n",
    "z_scores"
   ]
  },
  {
   "cell_type": "code",
   "execution_count": 21,
   "id": "0e75b9c4-ffc2-4ac7-8650-1dd6cf5d923c",
   "metadata": {},
   "outputs": [
    {
     "name": "stdout",
     "output_type": "stream",
     "text": [
      "[13 14]\n"
     ]
    }
   ],
   "source": [
    "threshold = 3\n",
    "outlier_indices = np.where(np.abs(z_scores) > threshold)[0]\n",
    "print(outlier_indices)"
   ]
  },
  {
   "cell_type": "code",
   "execution_count": 22,
   "id": "df9ce8f9-2184-4535-843e-c41b9d14b923",
   "metadata": {},
   "outputs": [
    {
     "name": "stdout",
     "output_type": "stream",
     "text": [
      "Giá trị của outliers: 13    2372\n",
      "14    2372\n",
      "Name: SquareFeet, dtype: int64\n"
     ]
    }
   ],
   "source": [
    "outlier_values = sf[outlier_indices]\n",
    "\n",
    "# In ra giá trị của outliers\n",
    "print(\"Giá trị của outliers:\", outlier_values)"
   ]
  },
  {
   "cell_type": "code",
   "execution_count": 30,
   "id": "10d2e662-0c8d-443b-aa06-c79e3210ba17",
   "metadata": {},
   "outputs": [
    {
     "name": "stdout",
     "output_type": "stream",
     "text": [
      "1695.2619047619048\n",
      "217.61883010304848\n"
     ]
    },
    {
     "data": {
      "text/plain": [
       "0     0.536434\n",
       "1     1.005143\n",
       "2     0.674290\n",
       "3     0.536434\n",
       "4     0.646718\n",
       "5     1.528995\n",
       "6     0.168819\n",
       "7     0.711051\n",
       "8     0.439935\n",
       "9    -0.134464\n",
       "10    0.720241\n",
       "11   -0.345843\n",
       "12   -0.014989\n",
       "13    3.109741\n",
       "14    3.109741\n",
       "15   -0.134464\n",
       "16    1.965538\n",
       "17   -0.345843\n",
       "18    0.164223\n",
       "19   -0.134464\n",
       "20   -0.805362\n",
       "21   -0.970789\n",
       "22   -0.492889\n",
       "23   -0.446937\n",
       "24   -0.970789\n",
       "25   -0.970789\n",
       "26   -0.805362\n",
       "27    0.026368\n",
       "28   -0.970789\n",
       "29   -1.044312\n",
       "30   -0.805362\n",
       "31   -0.805362\n",
       "32   -0.970789\n",
       "33   -0.805362\n",
       "34   -0.125274\n",
       "35   -0.492889\n",
       "36    0.407768\n",
       "37   -0.970789\n",
       "38   -0.805362\n",
       "39   -0.805362\n",
       "40   -0.051751\n",
       "41   -0.525055\n",
       "Name: SquareFeet, dtype: float64"
      ]
     },
     "execution_count": 30,
     "metadata": {},
     "output_type": "execute_result"
    }
   ],
   "source": [
    "mean_value_SF = np.mean(sf)\n",
    "std_dev_SF = np.std(sf)\n",
    "z_scores_SF = (sf - mean_value_SF) / std_dev_SF\n",
    "print(mean_value_SF)\n",
    "print(std_dev_SF)\n",
    "z_scores_SF"
   ]
  },
  {
   "cell_type": "code",
   "execution_count": 35,
   "id": "70bf61ed-4fe3-402a-8a8b-d2c5aaf869f4",
   "metadata": {},
   "outputs": [
    {
     "data": {
      "text/plain": [
       "13    2372\n",
       "14    2372\n",
       "Name: SquareFeet, dtype: int64"
      ]
     },
     "execution_count": 35,
     "metadata": {},
     "output_type": "execute_result"
    }
   ],
   "source": [
    "outlier_pos = np.where(np.abs(z_scores_SF) > 3)[0]\n",
    "sf_value = sf[outlier_pos]\n",
    "sf_value"
   ]
  },
  {
   "cell_type": "code",
   "execution_count": 34,
   "id": "5f77f957-8e75-4304-bf75-c0568c8d0c81",
   "metadata": {},
   "outputs": [
    {
     "name": "stdout",
     "output_type": "stream",
     "text": [
      "92069.04761904762\n",
      "10426.69394928316\n"
     ]
    },
    {
     "data": {
      "text/plain": [
       "0    -0.198438\n",
       "1     1.182633\n",
       "2     0.118058\n",
       "3    -0.102530\n",
       "4     0.942864\n",
       "5     1.575854\n",
       "6    -0.428616\n",
       "7     0.377009\n",
       "8    -0.275164\n",
       "9    -0.351890\n",
       "10    0.837365\n",
       "11    0.444144\n",
       "12   -0.438207\n",
       "13    2.103347\n",
       "14    2.026621\n",
       "15   -0.438207\n",
       "16    2.304753\n",
       "17    0.252329\n",
       "18   -0.543705\n",
       "19   -0.476570\n",
       "20   -0.831428\n",
       "21   -1.176696\n",
       "22   -1.013653\n",
       "23   -0.476570\n",
       "24   -0.908154\n",
       "25   -1.272604\n",
       "26   -0.428616\n",
       "27    0.204375\n",
       "28   -0.965699\n",
       "29   -0.380662\n",
       "30   -0.380662\n",
       "31   -0.332708\n",
       "32   -1.483600\n",
       "33   -0.735521\n",
       "34   -0.112121\n",
       "35   -1.061607\n",
       "36   -0.073758\n",
       "37   -1.032834\n",
       "38    0.827775\n",
       "39   -0.466979\n",
       "40    0.444144\n",
       "41    2.745928\n",
       "Name: MarketValue, dtype: float64"
      ]
     },
     "execution_count": 34,
     "metadata": {},
     "output_type": "execute_result"
    }
   ],
   "source": [
    "mean_value_MV = np.mean(mv)\n",
    "std_dev_MV = np.std(mv)\n",
    "z_scores_MV = (mv - mean_value_MV) / std_dev_MV\n",
    "print(mean_value_MV)\n",
    "print(std_dev_MV)\n",
    "z_scores_MV"
   ]
  },
  {
   "cell_type": "code",
   "execution_count": 37,
   "id": "fb9483ae-7d6e-4985-9ecf-ad41680e8917",
   "metadata": {},
   "outputs": [
    {
     "data": {
      "text/plain": [
       "Series([], Name: MarketValue, dtype: int64)"
      ]
     },
     "execution_count": 37,
     "metadata": {},
     "output_type": "execute_result"
    }
   ],
   "source": [
    "outlier_pos_mv = np.where(np.abs(z_scores_MV) > 3)[0]\n",
    "mv_value = mv[outlier_pos_mv]\n",
    "mv_value"
   ]
  },
  {
   "cell_type": "code",
   "execution_count": null,
   "id": "869ce864-24cf-4a4f-93b3-0f148e879068",
   "metadata": {},
   "outputs": [],
   "source": []
  }
 ],
 "metadata": {
  "kernelspec": {
   "display_name": "Python 3 (ipykernel)",
   "language": "python",
   "name": "python3"
  },
  "language_info": {
   "codemirror_mode": {
    "name": "ipython",
    "version": 3
   },
   "file_extension": ".py",
   "mimetype": "text/x-python",
   "name": "python",
   "nbconvert_exporter": "python",
   "pygments_lexer": "ipython3",
   "version": "3.11.7"
  }
 },
 "nbformat": 4,
 "nbformat_minor": 5
}
