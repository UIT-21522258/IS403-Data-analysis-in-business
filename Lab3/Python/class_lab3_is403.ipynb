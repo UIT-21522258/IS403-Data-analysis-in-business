{
 "cells": [
  {
   "cell_type": "code",
   "execution_count": 1,
   "id": "75feba97-8763-4eec-8370-5513022736e8",
   "metadata": {},
   "outputs": [],
   "source": [
    "import numpy as np\n",
    "from scipy.optimize import curve_fit\n",
    "\n"
   ]
  },
  {
   "cell_type": "code",
   "execution_count": 2,
   "id": "3edc866f-2a2b-4dc9-a0ad-e578eb1e1f01",
   "metadata": {},
   "outputs": [],
   "source": [
    "def model_func(x, C1, C2):\n",
    "    return C1 * np.exp(-C2*x)"
   ]
  },
  {
   "cell_type": "code",
   "execution_count": 3,
   "id": "d52f38a1-f585-4a2b-a14a-f47404866d91",
   "metadata": {},
   "outputs": [],
   "source": [
    "X=([147.8,78.3,44.7,29.5,15.2,7.8,3.2,3.9])\n",
    "Y=([0,20,40,60,80,100,120,140])"
   ]
  },
  {
   "cell_type": "code",
   "execution_count": 4,
   "id": "332379b8-96af-4894-8852-469c888145bf",
   "metadata": {},
   "outputs": [],
   "source": [
    "initial_guess = (1, 1)"
   ]
  },
  {
   "cell_type": "code",
   "execution_count": 5,
   "id": "65e884dd-0b26-42f8-b350-3200d1de0395",
   "metadata": {},
   "outputs": [
    {
     "name": "stderr",
     "output_type": "stream",
     "text": [
      "C:\\Users\\GIA KIET\\AppData\\Local\\Temp\\ipykernel_15880\\668994810.py:2: RuntimeWarning: overflow encountered in exp\n",
      "  return C1 * np.exp(-C2*x)\n"
     ]
    }
   ],
   "source": [
    "params, covariance = curve_fit(model_func, X, Y, p0=initial_guess)"
   ]
  },
  {
   "cell_type": "code",
   "execution_count": 6,
   "id": "a141f401-607a-43c8-807a-a63c4d912e2e",
   "metadata": {},
   "outputs": [],
   "source": [
    "C1_opt, C2_opt = params"
   ]
  },
  {
   "cell_type": "code",
   "execution_count": 7,
   "id": "4abad166-3a75-4726-b1d4-cb4c3b277daf",
   "metadata": {},
   "outputs": [
    {
     "name": "stdout",
     "output_type": "stream",
     "text": [
      "Constant C1 = 137.2448, Constant C2 = 0.0290 \n"
     ]
    }
   ],
   "source": [
    "print(f'Constant C1 = {C1_opt:.4f}, Constant C2 = {C2_opt:.4f} ')"
   ]
  },
  {
   "cell_type": "code",
   "execution_count": null,
   "id": "529c6035-7a88-4558-bb99-470b6aee82d2",
   "metadata": {},
   "outputs": [],
   "source": []
  }
 ],
 "metadata": {
  "kernelspec": {
   "display_name": "Python 3 (ipykernel)",
   "language": "python",
   "name": "python3"
  },
  "language_info": {
   "codemirror_mode": {
    "name": "ipython",
    "version": 3
   },
   "file_extension": ".py",
   "mimetype": "text/x-python",
   "name": "python",
   "nbconvert_exporter": "python",
   "pygments_lexer": "ipython3",
   "version": "3.11.7"
  }
 },
 "nbformat": 4,
 "nbformat_minor": 5
}
